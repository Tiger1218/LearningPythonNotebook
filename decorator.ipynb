{
 "cells": [
  {
   "cell_type": "code",
   "execution_count": 2,
   "id": "38782336",
   "metadata": {},
   "outputs": [
    {
     "name": "stdout",
     "output_type": "stream",
     "text": [
      "the test decorator has been called.\n",
      "the test function has been called\n"
     ]
    }
   ],
   "source": [
    "def test_decorator1(func):\n",
    "    print(\"the test decorator has been called.\")\n",
    "    return func\n",
    "@test_decorator1\n",
    "def test_func():\n",
    "    print(\"the test function has been called\")\n",
    "\n",
    "test_func()"
   ]
  },
  {
   "cell_type": "code",
   "execution_count": 4,
   "id": "c8891644",
   "metadata": {},
   "outputs": [
    {
     "name": "stdout",
     "output_type": "stream",
     "text": [
      "Before the function\n",
      "hello from the test_func\n",
      "After the function\n"
     ]
    }
   ],
   "source": [
    "def test_decorator2(func):\n",
    "    def wrapper():\n",
    "        print(\"Before the function\")\n",
    "        func()\n",
    "        print(\"After the function\")\n",
    "    return wrapper\n",
    "\n",
    "@test_decorator2\n",
    "def test_func():\n",
    "    print(\"hello from the test_func\")\n",
    "test_func()"
   ]
  },
  {
   "cell_type": "code",
   "execution_count": 7,
   "id": "b2a01037",
   "metadata": {},
   "outputs": [
    {
     "name": "stdout",
     "output_type": "stream",
     "text": [
      "Before the function\n",
      "hello from the PSF\n",
      "After the function\n"
     ]
    }
   ],
   "source": [
    "def test_decorator2(func):\n",
    "    def wrapper(*args, **kwargs):\n",
    "        print(\"Before the function\")\n",
    "        func(*args, **kwargs)\n",
    "        print(\"After the function\")\n",
    "    return wrapper\n",
    "\n",
    "@test_decorator2\n",
    "def test_func(name):\n",
    "    print(\"hello from the {0}\".format(name))\n",
    "test_func(\"PSF\")"
   ]
  },
  {
   "cell_type": "code",
   "execution_count": 9,
   "id": "5c03419e",
   "metadata": {},
   "outputs": [
    {
     "name": "stdout",
     "output_type": "stream",
     "text": [
      "Before the function\n",
      "hello from the PSF\n",
      "After the function\n",
      "Hello!\n"
     ]
    }
   ],
   "source": [
    "# Return Value\n",
    "def test_decorator2(func):\n",
    "    def wrapper(*args, **kwargs):\n",
    "        print(\"Before the function\")\n",
    "        result = func(*args, **kwargs)\n",
    "        print(\"After the function\")\n",
    "        return result\n",
    "    return wrapper\n",
    "\n",
    "@test_decorator2\n",
    "def test_func(name):\n",
    "    print(\"hello from the {0}\".format(name))\n",
    "    return \"Hello!\"\n",
    "print(test_func(\"PSF\"))"
   ]
  },
  {
   "cell_type": "code",
   "execution_count": 15,
   "id": "f8225bc2",
   "metadata": {},
   "outputs": [
    {
     "name": "stdout",
     "output_type": "stream",
     "text": [
      "test_func this is a docstring\n"
     ]
    }
   ],
   "source": [
    "# Return Value\n",
    "import functools\n",
    "def test_decorator2(func):\n",
    "    @functools.wraps(func)\n",
    "    def wrapper(*args, **kwargs):\n",
    "        print(\"Before the function\")\n",
    "        result = func(*args, **kwargs)\n",
    "        print(\"After the function\")\n",
    "        return result\n",
    "    return wrapper\n",
    "\n",
    "@test_decorator2\n",
    "def test_func(name):\n",
    "    '''this is a docstring'''\n",
    "    print(\"hello from the {0}\".format(name))\n",
    "    return \"Hello!\"\n",
    "print(test_func.__name__, test_func.__doc__)"
   ]
  },
  {
   "cell_type": "code",
   "execution_count": 32,
   "id": "2c513620",
   "metadata": {},
   "outputs": [
    {
     "name": "stdout",
     "output_type": "stream",
     "text": [
      "this is the class implement decorator\n",
      "__call__ method has been called\n",
      "hello from test_func\n"
     ]
    }
   ],
   "source": [
    "# decorator class\n",
    "import functools\n",
    "class decorator_class:\n",
    "    def __init__(self, func):\n",
    "        functools.update_wrapper(self, func)\n",
    "        print(\"this is the class implement decorator\")\n",
    "        self.func = func\n",
    "    def __call__(self, *args, **kwargs):\n",
    "        print(\"__call__ method has been called\")\n",
    "        return self.func(*args, **kwargs)\n",
    "@decorator_class\n",
    "def test_func(function_name):\n",
    "    print(\"hello from {0}\".format(function_name))\n",
    "test_func(\"test_func\")"
   ]
  }
 ],
 "metadata": {
  "kernelspec": {
   "display_name": "Python 3 (ipykernel)",
   "language": "python",
   "name": "python3"
  },
  "language_info": {
   "codemirror_mode": {
    "name": "ipython",
    "version": 3
   },
   "file_extension": ".py",
   "mimetype": "text/x-python",
   "name": "python",
   "nbconvert_exporter": "python",
   "pygments_lexer": "ipython3",
   "version": "3.10.6"
  }
 },
 "nbformat": 4,
 "nbformat_minor": 5
}
