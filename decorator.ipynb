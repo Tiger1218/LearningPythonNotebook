{
 "cells": [
  {
   "cell_type": "code",
   "execution_count": 2,
   "id": "38782336",
   "metadata": {},
   "outputs": [
    {
     "name": "stdout",
     "output_type": "stream",
     "text": [
      "the test decorator has been called.\n",
      "the test function has been called\n"
     ]
    }
   ],
   "source": [
    "def test_decorator1(func):\n",
    "    print(\"the test decorator has been called.\")\n",
    "    return func\n",
    "@test_decorator1\n",
    "def test_func():\n",
    "    print(\"the test function has been called\")\n",
    "\n",
    "test_func()"
   ]
  },
  {
   "cell_type": "code",
   "execution_count": 4,
   "id": "c9b96931",
   "metadata": {},
   "outputs": [
    {
     "name": "stdout",
     "output_type": "stream",
     "text": [
      "Before the function\n",
      "hello from the test_func\n",
      "After the function\n"
     ]
    }
   ],
   "source": [
    "def test_decorator2(func):\n",
    "    def wrapper():\n",
    "        print(\"Before the function\")\n",
    "        func()\n",
    "        print(\"After the function\")\n",
    "    return wrapper\n",
    "\n",
    "@test_decorator2\n",
    "def test_func():\n",
    "    print(\"hello from the test_func\")\n",
    "test_func()"
   ]
  },
  {
   "cell_type": "code",
   "execution_count": 7,
   "id": "d0e19249",
   "metadata": {},
   "outputs": [
    {
     "name": "stdout",
     "output_type": "stream",
     "text": [
      "Before the function\n",
      "hello from the PSF\n",
      "After the function\n"
     ]
    }
   ],
   "source": [
    "def test_decorator2(func):\n",
    "    def wrapper(*args, **kwargs):\n",
    "        print(\"Before the function\")\n",
    "        func(*args, **kwargs)\n",
    "        print(\"After the function\")\n",
    "    return wrapper\n",
    "\n",
    "@test_decorator2\n",
    "def test_func(name):\n",
    "    print(\"hello from the {0}\".format(name))\n",
    "test_func(\"PSF\")"
   ]
  },
  {
   "cell_type": "code",
   "execution_count": 9,
   "id": "93d0458d",
   "metadata": {},
   "outputs": [
    {
     "name": "stdout",
     "output_type": "stream",
     "text": [
      "Before the function\n",
      "hello from the PSF\n",
      "After the function\n",
      "Hello!\n"
     ]
    }
   ],
   "source": [
    "# Return Value\n",
    "def test_decorator2(func):\n",
    "    def wrapper(*args, **kwargs):\n",
    "        print(\"Before the function\")\n",
    "        result = func(*args, **kwargs)\n",
    "        print(\"After the function\")\n",
    "        return result\n",
    "    return wrapper\n",
    "\n",
    "@test_decorator2\n",
    "def test_func(name):\n",
    "    print(\"hello from the {0}\".format(name))\n",
    "    return \"Hello!\"\n",
    "print(test_func(\"PSF\"))"
   ]
  },
  {
   "cell_type": "code",
   "execution_count": 15,
   "id": "04405406",
   "metadata": {},
   "outputs": [
    {
     "name": "stdout",
     "output_type": "stream",
     "text": [
      "test_func this is a docstring\n"
     ]
    }
   ],
   "source": [
    "# Return Value\n",
    "import functools\n",
    "def test_decorator2(func):\n",
    "    @functools.wraps(func)\n",
    "    def wrapper(*args, **kwargs):\n",
    "        print(\"Before the function\")\n",
    "        result = func(*args, **kwargs)\n",
    "        print(\"After the function\")\n",
    "        return result\n",
    "    return wrapper\n",
    "\n",
    "@test_decorator2\n",
    "def test_func(name):\n",
    "    '''this is a docstring'''\n",
    "    print(\"hello from the {0}\".format(name))\n",
    "    return \"Hello!\"\n",
    "print(test_func.__name__, test_func.__doc__)"
   ]
  },
  {
   "cell_type": "code",
   "execution_count": 35,
   "id": "15e3571e",
   "metadata": {},
   "outputs": [
    {
     "name": "stdout",
     "output_type": "stream",
     "text": [
      "this is the class implement decorator\n",
      "__call__ method has been called\n",
      "hello from test_func\n"
     ]
    }
   ],
   "source": [
    "# decorator class\n",
    "import functools\n",
    "class decorator_class:\n",
    "    def __init__(self, func):\n",
    "        functools.update_wrapper(self, func)\n",
    "        print(\"this is the class implement decorator\")\n",
    "        self.func = func\n",
    "    def __call__(self, *args, **kwargs):\n",
    "        print(\"__call__ method has been called\")\n",
    "        return self.func(*args, **kwargs)\n",
    "@decorator_class\n",
    "def test_func(function_name):\n",
    "    print(\"hello from {0}\".format(function_name))\n",
    "test_func(\"test_func\")"
   ]
  },
  {
   "cell_type": "code",
   "execution_count": 51,
   "id": "4690cfa9",
   "metadata": {},
   "outputs": [
    {
     "name": "stdout",
     "output_type": "stream",
     "text": [
      "1\n"
     ]
    },
    {
     "ename": "TypeError",
     "evalue": "repeat() got multiple values for argument 'repeat_time'",
     "output_type": "error",
     "traceback": [
      "\u001b[1;31m---------------------------------------------------------------------------\u001b[0m",
      "\u001b[1;31mTypeError\u001b[0m                                 Traceback (most recent call last)",
      "Cell \u001b[1;32mIn[51], line 19\u001b[0m\n\u001b[0;32m     16\u001b[0m \u001b[38;5;28;01mdef\u001b[39;00m \u001b[38;5;21mhello\u001b[39m(name):\n\u001b[0;32m     17\u001b[0m     \u001b[38;5;28mprint\u001b[39m(name)\n\u001b[1;32m---> 19\u001b[0m \u001b[43mrepeat\u001b[49m\u001b[43m(\u001b[49m\u001b[43mhello\u001b[49m\u001b[43m(\u001b[49m\u001b[38;5;241;43m1\u001b[39;49m\u001b[43m)\u001b[49m\u001b[43m,\u001b[49m\u001b[43m \u001b[49m\u001b[43mrepeat_time\u001b[49m\u001b[38;5;241;43m=\u001b[39;49m\u001b[38;5;241;43m3\u001b[39;49m\u001b[43m)\u001b[49m\n",
      "\u001b[1;31mTypeError\u001b[0m: repeat() got multiple values for argument 'repeat_time'"
     ]
    }
   ],
   "source": [
    "# Decorators with arguments\n",
    "import functools\n",
    "def repeat(repeat_time):\n",
    "    assert isinstance(repeat_time, int)\n",
    "    def wrapper_layer(func):\n",
    "        @functools.wraps(func)\n",
    "        def wrapper(*args, **kwargs):\n",
    "            result = None\n",
    "            for _ in range(repeat_time):\n",
    "                result = func(*args, **kwargs)\n",
    "            return result\n",
    "        return wrapper\n",
    "    return wrapper_layer\n",
    "\n",
    "# @repeat(repeat_time=3)\n",
    "def hello(name):\n",
    "    print(name)\n",
    "\n",
    "repeat(hello(1), repeat_time=3)"
   ]
  },
  {
   "cell_type": "code",
   "execution_count": 45,
   "id": "0dadb577",
   "metadata": {},
   "outputs": [
    {
     "name": "stdout",
     "output_type": "stream",
     "text": [
      "222\n",
      "222\n",
      "222\n"
     ]
    }
   ],
   "source": [
    "import functools\n",
    "def decorator_choice(_func = None, times=2):\n",
    "    def wrapper(func):\n",
    "        @functools.wraps(func)\n",
    "        def de_wrapper(*args, **kwargs):\n",
    "            for _ in range(times):\n",
    "                result = func(*args, **kwargs)\n",
    "            return result\n",
    "        return de_wrapper\n",
    "    if _func == None:\n",
    "        return wrapper\n",
    "    else:\n",
    "        return wrapper(_func)\n",
    "\n",
    "@decorator_choice(times=3)\n",
    "def test_func(name):\n",
    "    print(name)\n",
    "\n",
    "test_func(\"222\")"
   ]
  },
  {
   "cell_type": "code",
   "execution_count": 50,
   "id": "5e107c1e",
   "metadata": {},
   "outputs": [
    {
     "name": "stdout",
     "output_type": "stream",
     "text": [
      "hello, 111\n",
      "hello, 111\n",
      "hello, 111\n"
     ]
    }
   ],
   "source": [
    "# Example 1: Timer\n",
    "import functools\n",
    "import time\n",
    "def Timer(func_ = None, *, rate=1):\n",
    "    def wrapper(func):\n",
    "        @functools.wraps(func)\n",
    "        def times_w(*args, **kwargs):\n",
    "            time.sleep(rate)\n",
    "            return func(*args, **kwargs)\n",
    "        return times_w\n",
    "    if func_ is None:\n",
    "        return wrapper\n",
    "    else:\n",
    "        return wrapper(func_)\n",
    "@Timer(rate=0.5)\n",
    "def hello(name):\n",
    "    print(\"hello, {}\".format(name))\n",
    "\n",
    "hello(\"111\")\n",
    "hello(\"111\")\n",
    "hello(\"111\")"
   ]
  }
 ],
 "metadata": {
  "kernelspec": {
   "display_name": "Python 3 (ipykernel)",
   "language": "python",
   "name": "python3"
  },
  "language_info": {
   "codemirror_mode": {
    "name": "ipython",
    "version": 3
   },
   "file_extension": ".py",
   "mimetype": "text/x-python",
   "name": "python",
   "nbconvert_exporter": "python",
   "pygments_lexer": "ipython3",
   "version": "3.10.6"
  }
 },
 "nbformat": 4,
 "nbformat_minor": 5
}
